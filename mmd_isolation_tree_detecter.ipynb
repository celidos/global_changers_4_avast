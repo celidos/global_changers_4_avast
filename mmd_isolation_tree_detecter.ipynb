{
 "cells": [
  {
   "cell_type": "code",
   "execution_count": 1,
   "metadata": {},
   "outputs": [],
   "source": [
    "import pandas as pd\n",
    "import numpy as np\n",
    "from matplotlib import pyplot as plt\n",
    "from sklearn.ensemble import IsolationForest\n",
    "from statsmodels.nonparametric.kde import KDEUnivariate\n",
    "from tqdm import tqdm_notebook"
   ]
  },
  {
   "cell_type": "code",
   "execution_count": 2,
   "metadata": {},
   "outputs": [],
   "source": [
    "#data = pd.read_csv('./data_Sality.csv', nrows=450 * 1000)\n",
    "data = pd.read_csv('./data_Bunitu.csv')"
   ]
  },
  {
   "cell_type": "code",
   "execution_count": 3,
   "metadata": {},
   "outputs": [
    {
     "name": "stdout",
     "output_type": "stream",
     "text": [
      "664620\n",
      "664615\n"
     ]
    }
   ],
   "source": [
    "print(len(data))\n",
    "data.dropna(inplace=True)\n",
    "print(len(data))"
   ]
  },
  {
   "cell_type": "code",
   "execution_count": 127,
   "metadata": {},
   "outputs": [
    {
     "data": {
      "text/html": [
       "<div>\n",
       "<style scoped>\n",
       "    .dataframe tbody tr th:only-of-type {\n",
       "        vertical-align: middle;\n",
       "    }\n",
       "\n",
       "    .dataframe tbody tr th {\n",
       "        vertical-align: top;\n",
       "    }\n",
       "\n",
       "    .dataframe thead th {\n",
       "        text-align: right;\n",
       "    }\n",
       "</style>\n",
       "<table border=\"1\" class=\"dataframe\">\n",
       "  <thead>\n",
       "    <tr style=\"text-align: right;\">\n",
       "      <th></th>\n",
       "      <th>No.</th>\n",
       "      <th>Time</th>\n",
       "      <th>Source</th>\n",
       "      <th>Destination</th>\n",
       "      <th>Protocol</th>\n",
       "      <th>Length</th>\n",
       "      <th>Info</th>\n",
       "    </tr>\n",
       "  </thead>\n",
       "  <tbody>\n",
       "    <tr>\n",
       "      <th>1</th>\n",
       "      <td>2</td>\n",
       "      <td>7.063600</td>\n",
       "      <td>fe80::31aa:edaf:e8df:b0f1</td>\n",
       "      <td>ff02::1:2</td>\n",
       "      <td>DHCPv6</td>\n",
       "      <td>147</td>\n",
       "      <td>Solicit XID: 0x366a8e CID: 000100011751c322080...</td>\n",
       "    </tr>\n",
       "    <tr>\n",
       "      <th>2</th>\n",
       "      <td>3</td>\n",
       "      <td>7.302760</td>\n",
       "      <td>PcsCompu_52:d2:50</td>\n",
       "      <td>Broadcast</td>\n",
       "      <td>ARP</td>\n",
       "      <td>42</td>\n",
       "      <td>Who has 10.0.2.2? Tell 10.0.2.110</td>\n",
       "    </tr>\n",
       "    <tr>\n",
       "      <th>3</th>\n",
       "      <td>4</td>\n",
       "      <td>7.302920</td>\n",
       "      <td>RealtekU_12:35:02</td>\n",
       "      <td>PcsCompu_52:d2:50</td>\n",
       "      <td>ARP</td>\n",
       "      <td>42</td>\n",
       "      <td>10.0.2.2 is at 52:54:00:12:35:02</td>\n",
       "    </tr>\n",
       "    <tr>\n",
       "      <th>4</th>\n",
       "      <td>5</td>\n",
       "      <td>7.334053</td>\n",
       "      <td>PcsCompu_52:d2:50</td>\n",
       "      <td>Broadcast</td>\n",
       "      <td>ARP</td>\n",
       "      <td>42</td>\n",
       "      <td>Who has 10.0.2.110? Tell 0.0.0.0</td>\n",
       "    </tr>\n",
       "    <tr>\n",
       "      <th>5</th>\n",
       "      <td>6</td>\n",
       "      <td>7.334188</td>\n",
       "      <td>::</td>\n",
       "      <td>ff02::1:ffdf:b0f1</td>\n",
       "      <td>ICMPv6</td>\n",
       "      <td>78</td>\n",
       "      <td>Neighbor Solicitation for fe80::31aa:edaf:e8df...</td>\n",
       "    </tr>\n",
       "    <tr>\n",
       "      <th>6</th>\n",
       "      <td>7</td>\n",
       "      <td>7.334242</td>\n",
       "      <td>fe80::31aa:edaf:e8df:b0f1</td>\n",
       "      <td>ff02::2</td>\n",
       "      <td>ICMPv6</td>\n",
       "      <td>70</td>\n",
       "      <td>Router Solicitation from 08:00:27:52:d2:50</td>\n",
       "    </tr>\n",
       "    <tr>\n",
       "      <th>7</th>\n",
       "      <td>8</td>\n",
       "      <td>7.334314</td>\n",
       "      <td>fe80::31aa:edaf:e8df:b0f1</td>\n",
       "      <td>ff02::16</td>\n",
       "      <td>ICMPv6</td>\n",
       "      <td>90</td>\n",
       "      <td>Multicast Listener Report Message v2</td>\n",
       "    </tr>\n",
       "  </tbody>\n",
       "</table>\n",
       "</div>"
      ],
      "text/plain": [
       "   No.      Time                     Source        Destination Protocol  \\\n",
       "1    2  7.063600  fe80::31aa:edaf:e8df:b0f1          ff02::1:2   DHCPv6   \n",
       "2    3  7.302760          PcsCompu_52:d2:50          Broadcast      ARP   \n",
       "3    4  7.302920          RealtekU_12:35:02  PcsCompu_52:d2:50      ARP   \n",
       "4    5  7.334053          PcsCompu_52:d2:50          Broadcast      ARP   \n",
       "5    6  7.334188                         ::  ff02::1:ffdf:b0f1   ICMPv6   \n",
       "6    7  7.334242  fe80::31aa:edaf:e8df:b0f1            ff02::2   ICMPv6   \n",
       "7    8  7.334314  fe80::31aa:edaf:e8df:b0f1           ff02::16   ICMPv6   \n",
       "\n",
       "   Length                                               Info  \n",
       "1     147  Solicit XID: 0x366a8e CID: 000100011751c322080...  \n",
       "2      42                  Who has 10.0.2.2? Tell 10.0.2.110  \n",
       "3      42                   10.0.2.2 is at 52:54:00:12:35:02  \n",
       "4      42                   Who has 10.0.2.110? Tell 0.0.0.0  \n",
       "5      78  Neighbor Solicitation for fe80::31aa:edaf:e8df...  \n",
       "6      70         Router Solicitation from 08:00:27:52:d2:50  \n",
       "7      90               Multicast Listener Report Message v2  "
      ]
     },
     "execution_count": 127,
     "metadata": {},
     "output_type": "execute_result"
    },
    {
     "name": "stderr",
     "output_type": "stream",
     "text": [
      "/home/michael/environments/virt-env-DS2/lib/python3.5/site-packages/tqdm/_monitor.py:89: TqdmSynchronisationWarning: Set changed size during iteration (see https://github.com/tqdm/tqdm/issues/481)\n",
      "  TqdmSynchronisationWarning)\n"
     ]
    }
   ],
   "source": [
    "data.head(7)"
   ]
  },
  {
   "cell_type": "code",
   "execution_count": 5,
   "metadata": {},
   "outputs": [
    {
     "name": "stdout",
     "output_type": "stream",
     "text": [
      "No. \t :  449987\n",
      "Time \t :  449962\n",
      "Source \t :  1753\n",
      "Destination \t :  4748\n",
      "Protocol \t :  20\n",
      "Length \t :  498\n",
      "Info \t :  404118\n"
     ]
    }
   ],
   "source": [
    "for column in data.columns:\n",
    "    print(column, '\\t : ', len(np.unique(data[column])))"
   ]
  },
  {
   "cell_type": "code",
   "execution_count": 6,
   "metadata": {},
   "outputs": [
    {
     "name": "stdout",
     "output_type": "stream",
     "text": [
      "['ARP' 'CAT-TP' 'CoAP' 'DHCPv6' 'DNS' 'Elasticsearch' 'HTTP' 'ICMP'\n",
      " 'ICMPv6' 'IMF' 'KINK' 'LLMNR' 'MIH' 'NBNS' 'RTCP' 'RX' 'SMTP' 'TCP'\n",
      " 'TETRA' 'UDP']\n"
     ]
    }
   ],
   "source": [
    "print(np.unique(data.Protocol))"
   ]
  },
  {
   "cell_type": "markdown",
   "metadata": {},
   "source": [
    "# Test of IsolationForest"
   ]
  },
  {
   "cell_type": "code",
   "execution_count": 35,
   "metadata": {},
   "outputs": [],
   "source": [
    "iso_frame = data.copy()\n",
    "\n",
    "iso_frame.drop(columns=['No.', 'Source', 'Destination', 'Info'], inplace=True)\n",
    "iso_frame = pd.get_dummies(iso_frame, columns=['Protocol'])\n",
    "\n",
    "iso_frame['Time'] = list(map(int, iso_frame['Time'].values))"
   ]
  },
  {
   "cell_type": "code",
   "execution_count": 44,
   "metadata": {},
   "outputs": [],
   "source": [
    "iso_frame = data.copy()\n",
    "\n",
    "iso_frame.drop(columns=['No.', 'Source', 'Destination', 'Info'], inplace=True)\n",
    "iso_frame = pd.get_dummies(iso_frame, columns=['Protocol'])\n",
    "\n",
    "iso_frame['Time'] = list(map(int, iso_frame['Time'].values))\n",
    "names = list(iso_frame.columns)\n",
    "names.remove('Time')\n",
    "\n",
    "iso_frame2 = pd.DataFrame(columns=names)\n",
    "\n",
    "grouped = iso_frame.groupby('Time')\n",
    "for col in names:\n",
    "    iso_frame2[col] = grouped[col].agg(np.sum)"
   ]
  },
  {
   "cell_type": "code",
   "execution_count": 45,
   "metadata": {},
   "outputs": [
    {
     "data": {
      "text/html": [
       "<div>\n",
       "<style scoped>\n",
       "    .dataframe tbody tr th:only-of-type {\n",
       "        vertical-align: middle;\n",
       "    }\n",
       "\n",
       "    .dataframe tbody tr th {\n",
       "        vertical-align: top;\n",
       "    }\n",
       "\n",
       "    .dataframe thead th {\n",
       "        text-align: right;\n",
       "    }\n",
       "</style>\n",
       "<table border=\"1\" class=\"dataframe\">\n",
       "  <thead>\n",
       "    <tr style=\"text-align: right;\">\n",
       "      <th></th>\n",
       "      <th>Length</th>\n",
       "      <th>Protocol_ARP</th>\n",
       "      <th>Protocol_CAT-TP</th>\n",
       "      <th>Protocol_CoAP</th>\n",
       "      <th>Protocol_DHCPv6</th>\n",
       "      <th>Protocol_DNS</th>\n",
       "      <th>Protocol_Elasticsearch</th>\n",
       "      <th>Protocol_HTTP</th>\n",
       "      <th>Protocol_ICMP</th>\n",
       "      <th>Protocol_ICMPv6</th>\n",
       "      <th>...</th>\n",
       "      <th>Protocol_KINK</th>\n",
       "      <th>Protocol_LLMNR</th>\n",
       "      <th>Protocol_MIH</th>\n",
       "      <th>Protocol_NBNS</th>\n",
       "      <th>Protocol_RTCP</th>\n",
       "      <th>Protocol_RX</th>\n",
       "      <th>Protocol_SMTP</th>\n",
       "      <th>Protocol_TCP</th>\n",
       "      <th>Protocol_TETRA</th>\n",
       "      <th>Protocol_UDP</th>\n",
       "    </tr>\n",
       "    <tr>\n",
       "      <th>Time</th>\n",
       "      <th></th>\n",
       "      <th></th>\n",
       "      <th></th>\n",
       "      <th></th>\n",
       "      <th></th>\n",
       "      <th></th>\n",
       "      <th></th>\n",
       "      <th></th>\n",
       "      <th></th>\n",
       "      <th></th>\n",
       "      <th></th>\n",
       "      <th></th>\n",
       "      <th></th>\n",
       "      <th></th>\n",
       "      <th></th>\n",
       "      <th></th>\n",
       "      <th></th>\n",
       "      <th></th>\n",
       "      <th></th>\n",
       "      <th></th>\n",
       "      <th></th>\n",
       "    </tr>\n",
       "  </thead>\n",
       "  <tbody>\n",
       "    <tr>\n",
       "      <th>54</th>\n",
       "      <td>370</td>\n",
       "      <td>1</td>\n",
       "      <td>0</td>\n",
       "      <td>0</td>\n",
       "      <td>0</td>\n",
       "      <td>0</td>\n",
       "      <td>0</td>\n",
       "      <td>0</td>\n",
       "      <td>0</td>\n",
       "      <td>4</td>\n",
       "      <td>...</td>\n",
       "      <td>0</td>\n",
       "      <td>0</td>\n",
       "      <td>0</td>\n",
       "      <td>0</td>\n",
       "      <td>0</td>\n",
       "      <td>0</td>\n",
       "      <td>0</td>\n",
       "      <td>0</td>\n",
       "      <td>0</td>\n",
       "      <td>0</td>\n",
       "    </tr>\n",
       "    <tr>\n",
       "      <th>55</th>\n",
       "      <td>42</td>\n",
       "      <td>1</td>\n",
       "      <td>0</td>\n",
       "      <td>0</td>\n",
       "      <td>0</td>\n",
       "      <td>0</td>\n",
       "      <td>0</td>\n",
       "      <td>0</td>\n",
       "      <td>0</td>\n",
       "      <td>0</td>\n",
       "      <td>...</td>\n",
       "      <td>0</td>\n",
       "      <td>0</td>\n",
       "      <td>0</td>\n",
       "      <td>0</td>\n",
       "      <td>0</td>\n",
       "      <td>0</td>\n",
       "      <td>0</td>\n",
       "      <td>0</td>\n",
       "      <td>0</td>\n",
       "      <td>0</td>\n",
       "    </tr>\n",
       "    <tr>\n",
       "      <th>56</th>\n",
       "      <td>42</td>\n",
       "      <td>1</td>\n",
       "      <td>0</td>\n",
       "      <td>0</td>\n",
       "      <td>0</td>\n",
       "      <td>0</td>\n",
       "      <td>0</td>\n",
       "      <td>0</td>\n",
       "      <td>0</td>\n",
       "      <td>0</td>\n",
       "      <td>...</td>\n",
       "      <td>0</td>\n",
       "      <td>0</td>\n",
       "      <td>0</td>\n",
       "      <td>0</td>\n",
       "      <td>0</td>\n",
       "      <td>0</td>\n",
       "      <td>0</td>\n",
       "      <td>0</td>\n",
       "      <td>0</td>\n",
       "      <td>0</td>\n",
       "    </tr>\n",
       "    <tr>\n",
       "      <th>58</th>\n",
       "      <td>70</td>\n",
       "      <td>0</td>\n",
       "      <td>0</td>\n",
       "      <td>0</td>\n",
       "      <td>0</td>\n",
       "      <td>0</td>\n",
       "      <td>0</td>\n",
       "      <td>0</td>\n",
       "      <td>0</td>\n",
       "      <td>1</td>\n",
       "      <td>...</td>\n",
       "      <td>0</td>\n",
       "      <td>0</td>\n",
       "      <td>0</td>\n",
       "      <td>0</td>\n",
       "      <td>0</td>\n",
       "      <td>0</td>\n",
       "      <td>0</td>\n",
       "      <td>0</td>\n",
       "      <td>0</td>\n",
       "      <td>0</td>\n",
       "    </tr>\n",
       "    <tr>\n",
       "      <th>62</th>\n",
       "      <td>70</td>\n",
       "      <td>0</td>\n",
       "      <td>0</td>\n",
       "      <td>0</td>\n",
       "      <td>0</td>\n",
       "      <td>0</td>\n",
       "      <td>0</td>\n",
       "      <td>0</td>\n",
       "      <td>0</td>\n",
       "      <td>1</td>\n",
       "      <td>...</td>\n",
       "      <td>0</td>\n",
       "      <td>0</td>\n",
       "      <td>0</td>\n",
       "      <td>0</td>\n",
       "      <td>0</td>\n",
       "      <td>0</td>\n",
       "      <td>0</td>\n",
       "      <td>0</td>\n",
       "      <td>0</td>\n",
       "      <td>0</td>\n",
       "    </tr>\n",
       "    <tr>\n",
       "      <th>76</th>\n",
       "      <td>147</td>\n",
       "      <td>0</td>\n",
       "      <td>0</td>\n",
       "      <td>0</td>\n",
       "      <td>1</td>\n",
       "      <td>0</td>\n",
       "      <td>0</td>\n",
       "      <td>0</td>\n",
       "      <td>0</td>\n",
       "      <td>0</td>\n",
       "      <td>...</td>\n",
       "      <td>0</td>\n",
       "      <td>0</td>\n",
       "      <td>0</td>\n",
       "      <td>0</td>\n",
       "      <td>0</td>\n",
       "      <td>0</td>\n",
       "      <td>0</td>\n",
       "      <td>0</td>\n",
       "      <td>0</td>\n",
       "      <td>0</td>\n",
       "    </tr>\n",
       "    <tr>\n",
       "      <th>77</th>\n",
       "      <td>147</td>\n",
       "      <td>0</td>\n",
       "      <td>0</td>\n",
       "      <td>0</td>\n",
       "      <td>1</td>\n",
       "      <td>0</td>\n",
       "      <td>0</td>\n",
       "      <td>0</td>\n",
       "      <td>0</td>\n",
       "      <td>0</td>\n",
       "      <td>...</td>\n",
       "      <td>0</td>\n",
       "      <td>0</td>\n",
       "      <td>0</td>\n",
       "      <td>0</td>\n",
       "      <td>0</td>\n",
       "      <td>0</td>\n",
       "      <td>0</td>\n",
       "      <td>0</td>\n",
       "      <td>0</td>\n",
       "      <td>0</td>\n",
       "    </tr>\n",
       "  </tbody>\n",
       "</table>\n",
       "<p>7 rows × 21 columns</p>\n",
       "</div>"
      ],
      "text/plain": [
       "      Length  Protocol_ARP  Protocol_CAT-TP  Protocol_CoAP  Protocol_DHCPv6  \\\n",
       "Time                                                                          \n",
       "54       370             1                0              0                0   \n",
       "55        42             1                0              0                0   \n",
       "56        42             1                0              0                0   \n",
       "58        70             0                0              0                0   \n",
       "62        70             0                0              0                0   \n",
       "76       147             0                0              0                1   \n",
       "77       147             0                0              0                1   \n",
       "\n",
       "      Protocol_DNS  Protocol_Elasticsearch  Protocol_HTTP  Protocol_ICMP  \\\n",
       "Time                                                                       \n",
       "54               0                       0              0              0   \n",
       "55               0                       0              0              0   \n",
       "56               0                       0              0              0   \n",
       "58               0                       0              0              0   \n",
       "62               0                       0              0              0   \n",
       "76               0                       0              0              0   \n",
       "77               0                       0              0              0   \n",
       "\n",
       "      Protocol_ICMPv6      ...       Protocol_KINK  Protocol_LLMNR  \\\n",
       "Time                       ...                                       \n",
       "54                  4      ...                   0               0   \n",
       "55                  0      ...                   0               0   \n",
       "56                  0      ...                   0               0   \n",
       "58                  1      ...                   0               0   \n",
       "62                  1      ...                   0               0   \n",
       "76                  0      ...                   0               0   \n",
       "77                  0      ...                   0               0   \n",
       "\n",
       "      Protocol_MIH  Protocol_NBNS  Protocol_RTCP  Protocol_RX  Protocol_SMTP  \\\n",
       "Time                                                                           \n",
       "54               0              0              0            0              0   \n",
       "55               0              0              0            0              0   \n",
       "56               0              0              0            0              0   \n",
       "58               0              0              0            0              0   \n",
       "62               0              0              0            0              0   \n",
       "76               0              0              0            0              0   \n",
       "77               0              0              0            0              0   \n",
       "\n",
       "      Protocol_TCP  Protocol_TETRA  Protocol_UDP  \n",
       "Time                                              \n",
       "54               0               0             0  \n",
       "55               0               0             0  \n",
       "56               0               0             0  \n",
       "58               0               0             0  \n",
       "62               0               0             0  \n",
       "76               0               0             0  \n",
       "77               0               0             0  \n",
       "\n",
       "[7 rows x 21 columns]"
      ]
     },
     "execution_count": 45,
     "metadata": {},
     "output_type": "execute_result"
    },
    {
     "name": "stderr",
     "output_type": "stream",
     "text": [
      "/home/michael/environments/virt-env-DS2/lib/python3.5/site-packages/tqdm/_monitor.py:89: TqdmSynchronisationWarning: Set changed size during iteration (see https://github.com/tqdm/tqdm/issues/481)\n",
      "  TqdmSynchronisationWarning)\n"
     ]
    }
   ],
   "source": [
    "iso_frame2.head(7)"
   ]
  },
  {
   "cell_type": "code",
   "execution_count": 10,
   "metadata": {},
   "outputs": [
    {
     "name": "stderr",
     "output_type": "stream",
     "text": [
      "/home/michael/environments/virt-env-DS2/lib/python3.5/site-packages/tqdm/_monitor.py:89: TqdmSynchronisationWarning: Set changed size during iteration (see https://github.com/tqdm/tqdm/issues/481)\n",
      "  TqdmSynchronisationWarning)\n"
     ]
    },
    {
     "data": {
      "text/plain": [
       "IsolationForest(bootstrap=False, contamination=0.1, max_features=1.0,\n",
       "        max_samples='auto', n_estimators=100, n_jobs=-1, random_state=None,\n",
       "        verbose=0)"
      ]
     },
     "execution_count": 10,
     "metadata": {},
     "output_type": "execute_result"
    }
   ],
   "source": [
    "iso = IsolationForest(n_jobs=-1)\n",
    "\n",
    "iso.fit(iso_frame2)"
   ]
  },
  {
   "cell_type": "code",
   "execution_count": 13,
   "metadata": {},
   "outputs": [
    {
     "name": "stderr",
     "output_type": "stream",
     "text": [
      "/home/michael/environments/virt-env-DS2/lib/python3.5/site-packages/tqdm/_monitor.py:89: TqdmSynchronisationWarning: Set changed size during iteration (see https://github.com/tqdm/tqdm/issues/481)\n",
      "  TqdmSynchronisationWarning)\n"
     ]
    }
   ],
   "source": [
    "pred_out = iso.predict(iso_frame2)"
   ]
  },
  {
   "cell_type": "code",
   "execution_count": 14,
   "metadata": {},
   "outputs": [
    {
     "name": "stdout",
     "output_type": "stream",
     "text": [
      "1  : 77813\n",
      "-1 : 8658\n"
     ]
    },
    {
     "name": "stderr",
     "output_type": "stream",
     "text": [
      "/home/michael/environments/virt-env-DS2/lib/python3.5/site-packages/tqdm/_monitor.py:89: TqdmSynchronisationWarning: Set changed size during iteration (see https://github.com/tqdm/tqdm/issues/481)\n",
      "  TqdmSynchronisationWarning)\n"
     ]
    }
   ],
   "source": [
    "print('1  :', len(pred_out[pred_out == 1]))\n",
    "print('-1 :', len(pred_out[pred_out == -1]))"
   ]
  },
  {
   "cell_type": "code",
   "execution_count": 30,
   "metadata": {},
   "outputs": [],
   "source": [
    "kde_frame = pred_out.copy()\n",
    "kde_frame[kde_frame == 1] = 0\n",
    "kde_frame[kde_frame == -1] = 1\n",
    "bw = 30\n",
    "compresed = []\n",
    "for i in range(0, len(kde_frame) - bw, bw):\n",
    "    compresed.append(np.sum(kde_frame[i:i+bw]))\n",
    "compresed = np.array(compresed)"
   ]
  },
  {
   "cell_type": "code",
   "execution_count": 4,
   "metadata": {},
   "outputs": [],
   "source": [
    "def apply_ISOForest(df, contamination=0.1, columns_to_use=[]):\n",
    "    '''\n",
    "    input -- pandas data frame with columns [No. Time Source Destination Protocol Length Info]\n",
    "    \n",
    "    output -- numpy array with {0, 1} where 1 is anomaly\n",
    "    '''\n",
    "    iso_frame = df.copy()\n",
    "\n",
    "    iso_frame.drop(columns=['No.', 'Source', 'Destination', 'Info'], inplace=True)\n",
    "    iso_frame = pd.get_dummies(iso_frame, columns=['Protocol'])\n",
    "\n",
    "    iso_frame['Time'] = list(map(int, iso_frame['Time'].values))\n",
    "    \n",
    "    names = []\n",
    "    if type(columns_to_use) == str:\n",
    "        names = ['Length', 'Protocol_' + columns_to_use]\n",
    "    if type(columns_to_use) == list:\n",
    "        if len(columns_to_use) == 0:\n",
    "            names = list(iso_frame.columns)\n",
    "            names.remove('Time')\n",
    "        else:\n",
    "            names2 = []\n",
    "            for name in names:\n",
    "                if len(name.split('_')) != 0:\n",
    "                    continue\n",
    "                elif name.split('_')[1] in columns_to_use:\n",
    "                    name2.append('Protocol_' + name)\n",
    "            names = names2\n",
    "            names.append('Length')\n",
    "\n",
    "    iso_frame2 = pd.DataFrame(columns=names)\n",
    "\n",
    "    grouped = iso_frame.groupby('Time')\n",
    "    \n",
    "    for col in names:\n",
    "        iso_frame2[col] = grouped[col].agg(np.sum)\n",
    "    \n",
    "    \n",
    "    iso = IsolationForest(n_jobs=-1, n_estimators=20)\n",
    "    iso.fit(iso_frame2)\n",
    "    pred_out = iso.predict(iso_frame2)\n",
    "    pred_out[pred_out == 1] = 0\n",
    "    pred_out[pred_out == -1] = 1\n",
    "    return pred_out"
   ]
  },
  {
   "cell_type": "code",
   "execution_count": 144,
   "metadata": {},
   "outputs": [
    {
     "name": "stderr",
     "output_type": "stream",
     "text": [
      "/home/michael/environments/virt-env-DS2/lib/python3.5/site-packages/tqdm/_monitor.py:89: TqdmSynchronisationWarning: Set changed size during iteration (see https://github.com/tqdm/tqdm/issues/481)\n",
      "  TqdmSynchronisationWarning)\n"
     ]
    },
    {
     "name": "stdout",
     "output_type": "stream",
     "text": [
      "['Length', 'Protocol_TCP']\n"
     ]
    }
   ],
   "source": [
    "buffer = apply_ISOForest(data, contamination=0.01, columns_to_use='TCP')"
   ]
  },
  {
   "cell_type": "code",
   "execution_count": 5,
   "metadata": {},
   "outputs": [],
   "source": [
    "def create_segments(ar, gap_ignore=0.03, remove_less_when=0.02):\n",
    "    '''\n",
    "    input -- array of {0, 1} where 1 is anomaly\n",
    "    \n",
    "    output -- numpy array [[s1, f1], ..., [sn, fn]] where [s1, f1] - segment of anomaly\n",
    "    '''\n",
    "    ar = list(ar)\n",
    "    ar.append(0)\n",
    "    ar = np.array(ar)\n",
    "    whole_len = len(ar)\n",
    "    segm1 = []\n",
    "    start = 0\n",
    "    now_seg = False\n",
    "    for i, x in enumerate(ar):\n",
    "        if x == 1:\n",
    "            if now_seg == False:\n",
    "                start = i\n",
    "                now_seg = True\n",
    "                continue\n",
    "        if x == 0:\n",
    "            if now_seg == True:\n",
    "                segm1.append([start, i - 1])\n",
    "                now_seg = False\n",
    "                continue\n",
    "#     segm3 = []\n",
    "#     for seg in segm1:\n",
    "#         if seg[1] - seg[0] >= remove_less_when * whole_len:\n",
    "#             segm3.append(seg)\n",
    "    segm2 = []\n",
    "    start = segm1[0][0]\n",
    "    now_seg = False\n",
    "    for i in range(len(segm1) - 1):\n",
    "        if abs(segm1[i][1] - segm1[i + 1][0]) <= whole_len * gap_ignore:\n",
    "            if now_seg == True:\n",
    "                continue\n",
    "            else:\n",
    "                now_seg = True\n",
    "                start = segm1[i][0]\n",
    "                continue\n",
    "        else:\n",
    "            if now_seg == False:\n",
    "                segm2.append(segm1[i])\n",
    "                continue\n",
    "            else:\n",
    "                now_seg = False\n",
    "                segm2.append([start, segm1[i][1]])\n",
    "                start = -1\n",
    "                continue\n",
    "    if now_seg == True:\n",
    "        segm2.append([start, segm1[-1][1]])\n",
    "    if segm2[-1][1] != segm1[-1][1]:\n",
    "        segm2.append(segm1[-1])\n",
    "    segm3 = []\n",
    "    for seg in segm2:\n",
    "        if seg[1] - seg[0] >= remove_less_when * whole_len:\n",
    "            segm3.append(seg)\n",
    "    return segm3"
   ]
  },
  {
   "cell_type": "code",
   "execution_count": 79,
   "metadata": {},
   "outputs": [
    {
     "name": "stdout",
     "output_type": "stream",
     "text": [
      "42\n",
      "[[1, 8], [14, 22], [26, 34]]\n",
      "0 \t 0\n",
      "1 \t 1\n",
      "2 \t 1\n",
      "3 \t 1\n",
      "4 \t 0\n",
      "5 \t 1\n",
      "6 \t 1\n",
      "7 \t 1\n",
      "8 \t 1\n",
      "9 \t 0\n",
      "10 \t 0\n",
      "11 \t 0\n",
      "12 \t 0\n",
      "13 \t 0\n",
      "14 \t 1\n",
      "15 \t 1\n",
      "16 \t 1\n",
      "17 \t 0\n",
      "18 \t 0\n",
      "19 \t 1\n",
      "20 \t 1\n",
      "21 \t 1\n",
      "22 \t 1\n",
      "23 \t 0\n",
      "24 \t 0\n",
      "25 \t 0\n",
      "26 \t 1\n",
      "27 \t 0\n",
      "28 \t 1\n",
      "29 \t 0\n",
      "30 \t 1\n",
      "31 \t 0\n",
      "32 \t 1\n",
      "33 \t 0\n",
      "34 \t 1\n",
      "35 \t 0\n",
      "36 \t 0\n",
      "37 \t 0\n",
      "38 \t 0\n",
      "39 \t 0\n",
      "40 \t 0\n",
      "41 \t 1\n"
     ]
    },
    {
     "name": "stderr",
     "output_type": "stream",
     "text": [
      "/home/michael/environments/virt-env-DS2/lib/python3.5/site-packages/tqdm/_monitor.py:89: TqdmSynchronisationWarning: Set changed size during iteration (see https://github.com/tqdm/tqdm/issues/481)\n",
      "  TqdmSynchronisationWarning)\n"
     ]
    }
   ],
   "source": [
    "test = [0, 1, 1, 1, 0, 1, 1, 1, 1, 0, 0, 0, 0, 0, 1, 1, 1, 0, 0, 1, 1, 1, 1, 0,\n",
    "        0, 0, 1, 0, 1, 0, 1, 0, 1, 0, 1, 0, 0, 0, 0, 0, 0, 1]\n",
    "print(len(test))\n",
    "print(create_segments(test, remove_less_when=0.01, gap_ignore=0.08))\n",
    "\n",
    "for i in range(len(test)):\n",
    "    print(i, '\\t', test[i])"
   ]
  },
  {
   "cell_type": "code",
   "execution_count": 6,
   "metadata": {},
   "outputs": [],
   "source": [
    "def iso_get_image(df, file_to_save=None, figsize=(20, 14), iso_contamination=0.02, iso_columns_to_use=[]):\n",
    "    seg = create_segments(apply_ISOForest(columns_to_use=iso_columns_to_use, \n",
    "                                          contamination=iso_contamination),\n",
    "                         gap_ignore=0.004,\n",
    "                         remove_less_when=0.01)\n",
    "    plt.figure(figsize=figsize)\n",
    "    for s in seg:\n",
    "        plt.hlines(y=0, xmin=s[0], xmax=s[1])\n",
    "    plt.grid(ls=':')\n",
    "    if file_to_save is None:\n",
    "        plt.show()\n",
    "    else:\n",
    "        plt.savefig(fname=file_to_save, format='png', dpi=256)"
   ]
  },
  {
   "cell_type": "code",
   "execution_count": 82,
   "metadata": {},
   "outputs": [
    {
     "data": {
      "image/png": "[encoded data removed]",
      "text/plain": [
       "<Figure size 432x288 with 1 Axes>"
      ]
     },
     "metadata": {},
     "output_type": "display_data"
    },
    {
     "name": "stderr",
     "output_type": "stream",
     "text": [
      "/home/michael/environments/virt-env-DS2/lib/python3.5/site-packages/tqdm/_monitor.py:89: TqdmSynchronisationWarning: Set changed size during iteration (see https://github.com/tqdm/tqdm/issues/481)\n",
      "  TqdmSynchronisationWarning)\n"
     ]
    }
   ],
   "source": [
    "drow_segments([[0, 1], [3, 4]])"
   ]
  },
  {
   "cell_type": "code",
   "execution_count": 38,
   "metadata": {},
   "outputs": [
    {
     "name": "stdout",
     "output_type": "stream",
     "text": [
      "0 27 3.0080005333688913 4.345679270757104\n",
      "14999\n",
      "1149\n"
     ]
    }
   ],
   "source": [
    "print(compresed.min(), compresed.max(), compresed.mean(), compresed.std())\n",
    "print(len(compresed))\n",
    "print(len(compresed[compresed > compresed.mean() + 2 * compresed.std()]))"
   ]
  },
  {
   "cell_type": "code",
   "execution_count": 149,
   "metadata": {},
   "outputs": [
    {
     "name": "stdout",
     "output_type": "stream",
     "text": [
      "['Length']\n"
     ]
    },
    {
     "name": "stderr",
     "output_type": "stream",
     "text": [
      "/home/michael/environments/virt-env-DS2/lib/python3.5/site-packages/tqdm/_monitor.py:89: TqdmSynchronisationWarning: Set changed size during iteration (see https://github.com/tqdm/tqdm/issues/481)\n",
      "  TqdmSynchronisationWarning)\n"
     ]
    }
   ],
   "source": [
    "buffer = apply_ISOForest(data, contamination=0.01, columns_to_use=['TCP', 'UDP'])"
   ]
  },
  {
   "cell_type": "code",
   "execution_count": 150,
   "metadata": {},
   "outputs": [
    {
     "data": {
      "image/png": "[encoded data removed]",
      "text/plain": [
       "<Figure size 1152x72 with 1 Axes>"
      ]
     },
     "metadata": {},
     "output_type": "display_data"
    },
    {
     "name": "stderr",
     "output_type": "stream",
     "text": [
      "/home/michael/environments/virt-env-DS2/lib/python3.5/site-packages/tqdm/_monitor.py:89: TqdmSynchronisationWarning: Set changed size during iteration (see https://github.com/tqdm/tqdm/issues/481)\n",
      "  TqdmSynchronisationWarning)\n"
     ]
    }
   ],
   "source": [
    "plt.figure(figsize=(16, 1))\n",
    "drow_segments(create_segments(buffer, remove_less_when=0.01, gap_ignore=0.005))\n",
    "plt.show()"
   ]
  },
  {
   "cell_type": "code",
   "execution_count": 77,
   "metadata": {},
   "outputs": [
    {
     "ename": "IndexError",
     "evalue": "boolean index did not match indexed array along dimension 0; dimension is 449987 but corresponding boolean dimension is 86471",
     "output_type": "error",
     "traceback": [
      "\u001b[0;31m---------------------------------------------------------------------------\u001b[0m",
      "\u001b[0;31mIndexError\u001b[0m                                Traceback (most recent call last)",
      "\u001b[0;32m~/environments/virt-env-DS2/lib/python3.5/site-packages/pandas/core/series.py\u001b[0m in \u001b[0;36m_get_values\u001b[0;34m(self, indexer)\u001b[0m\n\u001b[1;32m    730\u001b[0m         \u001b[0;32mtry\u001b[0m\u001b[0;34m:\u001b[0m\u001b[0;34m\u001b[0m\u001b[0m\n\u001b[0;32m--> 731\u001b[0;31m             return self._constructor(self._data.get_slice(indexer),\n\u001b[0m\u001b[1;32m    732\u001b[0m                                      fastpath=True).__finalize__(self)\n",
      "\u001b[0;32m~/environments/virt-env-DS2/lib/python3.5/site-packages/pandas/core/internals.py\u001b[0m in \u001b[0;36mget_slice\u001b[0;34m(self, slobj, axis)\u001b[0m\n\u001b[1;32m   4466\u001b[0m \u001b[0;34m\u001b[0m\u001b[0m\n\u001b[0;32m-> 4467\u001b[0;31m         return self.__class__(self._block._slice(slobj),\n\u001b[0m\u001b[1;32m   4468\u001b[0m                               self.index[slobj], fastpath=True)\n",
      "\u001b[0;32m~/environments/virt-env-DS2/lib/python3.5/site-packages/pandas/core/internals.py\u001b[0m in \u001b[0;36m_slice\u001b[0;34m(self, slicer)\u001b[0m\n\u001b[1;32m    261\u001b[0m         \u001b[0;34m\"\"\" return a slice of my values \"\"\"\u001b[0m\u001b[0;34m\u001b[0m\u001b[0m\n\u001b[0;32m--> 262\u001b[0;31m         \u001b[0;32mreturn\u001b[0m \u001b[0mself\u001b[0m\u001b[0;34m.\u001b[0m\u001b[0mvalues\u001b[0m\u001b[0;34m[\u001b[0m\u001b[0mslicer\u001b[0m\u001b[0;34m]\u001b[0m\u001b[0;34m\u001b[0m\u001b[0m\n\u001b[0m\u001b[1;32m    263\u001b[0m \u001b[0;34m\u001b[0m\u001b[0m\n",
      "\u001b[0;31mIndexError\u001b[0m: boolean index did not match indexed array along dimension 0; dimension is 449987 but corresponding boolean dimension is 86471",
      "\nDuring handling of the above exception, another exception occurred:\n",
      "\u001b[0;31mIndexError\u001b[0m                                Traceback (most recent call last)",
      "\u001b[0;32m<ipython-input-77-b6cbe2a29684>\u001b[0m in \u001b[0;36m<module>\u001b[0;34m()\u001b[0m\n\u001b[1;32m      2\u001b[0m \u001b[0;34m\u001b[0m\u001b[0m\n\u001b[1;32m      3\u001b[0m \u001b[0mplt\u001b[0m\u001b[0;34m.\u001b[0m\u001b[0mfigure\u001b[0m\u001b[0;34m(\u001b[0m\u001b[0mfigsize\u001b[0m\u001b[0;34m=\u001b[0m\u001b[0;34m(\u001b[0m\u001b[0;36m14\u001b[0m\u001b[0;34m,\u001b[0m \u001b[0;36m6\u001b[0m\u001b[0;34m)\u001b[0m\u001b[0;34m)\u001b[0m\u001b[0;34m\u001b[0m\u001b[0m\n\u001b[0;32m----> 4\u001b[0;31m \u001b[0mbuf\u001b[0m \u001b[0;34m=\u001b[0m \u001b[0mdata\u001b[0m\u001b[0;34m.\u001b[0m\u001b[0mTime\u001b[0m\u001b[0;34m[\u001b[0m\u001b[0mpred_out\u001b[0m \u001b[0;34m==\u001b[0m \u001b[0;34m-\u001b[0m\u001b[0;36m1\u001b[0m\u001b[0;34m]\u001b[0m\u001b[0;34m\u001b[0m\u001b[0m\n\u001b[0m\u001b[1;32m      5\u001b[0m \u001b[0mplt\u001b[0m\u001b[0;34m.\u001b[0m\u001b[0mscatter\u001b[0m\u001b[0;34m(\u001b[0m\u001b[0mbuf\u001b[0m\u001b[0;34m[\u001b[0m\u001b[0;34m:\u001b[0m\u001b[0;34m:\u001b[0m\u001b[0;36m10\u001b[0m\u001b[0;34m]\u001b[0m\u001b[0;34m,\u001b[0m \u001b[0mnp\u001b[0m\u001b[0;34m.\u001b[0m\u001b[0mones_like\u001b[0m\u001b[0;34m(\u001b[0m\u001b[0mbuf\u001b[0m\u001b[0;34m)\u001b[0m\u001b[0;34m[\u001b[0m\u001b[0;34m:\u001b[0m\u001b[0;34m:\u001b[0m\u001b[0;36m10\u001b[0m\u001b[0;34m]\u001b[0m \u001b[0;34m*\u001b[0m \u001b[0;36m1000\u001b[0m\u001b[0;34m,\u001b[0m \u001b[0malpha\u001b[0m\u001b[0;34m=\u001b[0m\u001b[0;36m0.002\u001b[0m\u001b[0;34m)\u001b[0m\u001b[0;34m\u001b[0m\u001b[0m\n\u001b[1;32m      6\u001b[0m \u001b[0mbuf2\u001b[0m \u001b[0;34m=\u001b[0m \u001b[0mdata\u001b[0m\u001b[0;34m.\u001b[0m\u001b[0mTime\u001b[0m\u001b[0;34m\u001b[0m\u001b[0m\n",
      "\u001b[0;32m~/environments/virt-env-DS2/lib/python3.5/site-packages/pandas/core/series.py\u001b[0m in \u001b[0;36m__getitem__\u001b[0;34m(self, key)\u001b[0m\n\u001b[1;32m    662\u001b[0m             \u001b[0mkey\u001b[0m \u001b[0;34m=\u001b[0m \u001b[0mcheck_bool_indexer\u001b[0m\u001b[0;34m(\u001b[0m\u001b[0mself\u001b[0m\u001b[0;34m.\u001b[0m\u001b[0mindex\u001b[0m\u001b[0;34m,\u001b[0m \u001b[0mkey\u001b[0m\u001b[0;34m)\u001b[0m\u001b[0;34m\u001b[0m\u001b[0m\n\u001b[1;32m    663\u001b[0m \u001b[0;34m\u001b[0m\u001b[0m\n\u001b[0;32m--> 664\u001b[0;31m         \u001b[0;32mreturn\u001b[0m \u001b[0mself\u001b[0m\u001b[0;34m.\u001b[0m\u001b[0m_get_with\u001b[0m\u001b[0;34m(\u001b[0m\u001b[0mkey\u001b[0m\u001b[0;34m)\u001b[0m\u001b[0;34m\u001b[0m\u001b[0m\n\u001b[0m\u001b[1;32m    665\u001b[0m \u001b[0;34m\u001b[0m\u001b[0m\n\u001b[1;32m    666\u001b[0m     \u001b[0;32mdef\u001b[0m \u001b[0m_get_with\u001b[0m\u001b[0;34m(\u001b[0m\u001b[0mself\u001b[0m\u001b[0;34m,\u001b[0m \u001b[0mkey\u001b[0m\u001b[0;34m)\u001b[0m\u001b[0;34m:\u001b[0m\u001b[0;34m\u001b[0m\u001b[0m\n",
      "\u001b[0;32m~/environments/virt-env-DS2/lib/python3.5/site-packages/pandas/core/series.py\u001b[0m in \u001b[0;36m_get_with\u001b[0;34m(self, key)\u001b[0m\n\u001b[1;32m    698\u001b[0m                     \u001b[0;32mreturn\u001b[0m \u001b[0mself\u001b[0m\u001b[0;34m.\u001b[0m\u001b[0m_get_values\u001b[0m\u001b[0;34m(\u001b[0m\u001b[0mkey\u001b[0m\u001b[0;34m)\u001b[0m\u001b[0;34m\u001b[0m\u001b[0m\n\u001b[1;32m    699\u001b[0m             \u001b[0;32melif\u001b[0m \u001b[0mkey_type\u001b[0m \u001b[0;34m==\u001b[0m \u001b[0;34m'boolean'\u001b[0m\u001b[0;34m:\u001b[0m\u001b[0;34m\u001b[0m\u001b[0m\n\u001b[0;32m--> 700\u001b[0;31m                 \u001b[0;32mreturn\u001b[0m \u001b[0mself\u001b[0m\u001b[0;34m.\u001b[0m\u001b[0m_get_values\u001b[0m\u001b[0;34m(\u001b[0m\u001b[0mkey\u001b[0m\u001b[0;34m)\u001b[0m\u001b[0;34m\u001b[0m\u001b[0m\n\u001b[0m\u001b[1;32m    701\u001b[0m             \u001b[0;32melse\u001b[0m\u001b[0;34m:\u001b[0m\u001b[0;34m\u001b[0m\u001b[0m\n\u001b[1;32m    702\u001b[0m                 \u001b[0;32mtry\u001b[0m\u001b[0;34m:\u001b[0m\u001b[0;34m\u001b[0m\u001b[0m\n",
      "\u001b[0;32m~/environments/virt-env-DS2/lib/python3.5/site-packages/pandas/core/series.py\u001b[0m in \u001b[0;36m_get_values\u001b[0;34m(self, indexer)\u001b[0m\n\u001b[1;32m    732\u001b[0m                                      fastpath=True).__finalize__(self)\n\u001b[1;32m    733\u001b[0m         \u001b[0;32mexcept\u001b[0m \u001b[0mException\u001b[0m\u001b[0;34m:\u001b[0m\u001b[0;34m\u001b[0m\u001b[0m\n\u001b[0;32m--> 734\u001b[0;31m             \u001b[0;32mreturn\u001b[0m \u001b[0mself\u001b[0m\u001b[0;34m.\u001b[0m\u001b[0m_values\u001b[0m\u001b[0;34m[\u001b[0m\u001b[0mindexer\u001b[0m\u001b[0;34m]\u001b[0m\u001b[0;34m\u001b[0m\u001b[0m\n\u001b[0m\u001b[1;32m    735\u001b[0m \u001b[0;34m\u001b[0m\u001b[0m\n\u001b[1;32m    736\u001b[0m     \u001b[0;32mdef\u001b[0m \u001b[0m__setitem__\u001b[0m\u001b[0;34m(\u001b[0m\u001b[0mself\u001b[0m\u001b[0;34m,\u001b[0m \u001b[0mkey\u001b[0m\u001b[0;34m,\u001b[0m \u001b[0mvalue\u001b[0m\u001b[0;34m)\u001b[0m\u001b[0;34m:\u001b[0m\u001b[0;34m\u001b[0m\u001b[0m\n",
      "\u001b[0;31mIndexError\u001b[0m: boolean index did not match indexed array along dimension 0; dimension is 449987 but corresponding boolean dimension is 86471"
     ]
    },
    {
     "data": {
      "text/plain": [
       "<Figure size 1008x432 with 0 Axes>"
      ]
     },
     "metadata": {},
     "output_type": "display_data"
    },
    {
     "name": "stderr",
     "output_type": "stream",
     "text": [
      "/home/michael/environments/virt-env-DS2/lib/python3.5/site-packages/tqdm/_monitor.py:89: TqdmSynchronisationWarning: Set changed size during iteration (see https://github.com/tqdm/tqdm/issues/481)\n",
      "  TqdmSynchronisationWarning)\n"
     ]
    }
   ],
   "source": [
    "test = np.array(list(map(int, data.Time)))\n",
    "\n",
    "plt.figure(figsize=(14, 6))\n",
    "buf = data.Time[pred_out == -1]\n",
    "plt.scatter(buf[::10], np.ones_like(buf)[::10] * 1000, alpha=0.002)\n",
    "buf2 = data.Time\n",
    "plt.hist(test, bins=len(test) // 100)\n",
    "drow_segments(create_segments(apply_ISOForest(data)))\n",
    "plt.show()"
   ]
  },
  {
   "cell_type": "code",
   "execution_count": null,
   "metadata": {},
   "outputs": [],
   "source": []
  },
  {
   "cell_type": "markdown",
   "metadata": {},
   "source": [
    "## Количество пакетов по времени"
   ]
  },
  {
   "cell_type": "code",
   "execution_count": 49,
   "metadata": {},
   "outputs": [],
   "source": [
    "test = np.array(list(map(int, data.Time)))"
   ]
  },
  {
   "cell_type": "code",
   "execution_count": 19,
   "metadata": {},
   "outputs": [
    {
     "data": {
      "image/png": "[encoded data removed]",
      "text/plain": [
       "<Figure size 432x288 with 1 Axes>"
      ]
     },
     "metadata": {},
     "output_type": "display_data"
    }
   ],
   "source": [
    "plt.hist(test, bins=len(test) // 100)\n",
    "plt.show()"
   ]
  },
  {
   "cell_type": "code",
   "execution_count": 7,
   "metadata": {},
   "outputs": [],
   "source": [
    "def unique_pac_per_time(df, file_to_save=None, figsize=(20, 14)):\n",
    "    test = np.array(list(map(int, df.Time)))\n",
    "    n_bins = len(test) // 60\n",
    "    if n_bins > 10**6:\n",
    "        n_bins /= 10\n",
    "    plt.figure(figsize=figsize)\n",
    "    plt.hist(test, bins=n_bins)\n",
    "    plt.grid(ls=':')\n",
    "    if file_to_save is None:\n",
    "        plt.show()\n",
    "    else:\n",
    "        plt.savefig(fname=file_to_save, format='png', dpi=64)"
   ]
  },
  {
   "cell_type": "code",
   "execution_count": null,
   "metadata": {},
   "outputs": [
    {
     "name": "stderr",
     "output_type": "stream",
     "text": [
      "/home/michael/environments/virt-env-DS2/lib/python3.5/site-packages/tqdm/_monitor.py:89: TqdmSynchronisationWarning: Set changed size during iteration (see https://github.com/tqdm/tqdm/issues/481)\n",
      "  TqdmSynchronisationWarning)\n"
     ]
    },
    {
     "ename": "KeyboardInterrupt",
     "evalue": "",
     "output_type": "error",
     "traceback": [
      "\u001b[0;31m---------------------------------------------------------------------------\u001b[0m",
      "\u001b[0;31mKeyboardInterrupt\u001b[0m                         Traceback (most recent call last)",
      "\u001b[0;32m<ipython-input-154-355048a533f5>\u001b[0m in \u001b[0;36m<module>\u001b[0;34m()\u001b[0m\n\u001b[0;32m----> 1\u001b[0;31m \u001b[0munique_pac_per_time\u001b[0m\u001b[0;34m(\u001b[0m\u001b[0mdata\u001b[0m\u001b[0;34m)\u001b[0m\u001b[0;34m\u001b[0m\u001b[0m\n\u001b[0m",
      "\u001b[0;32m<ipython-input-153-6bfc6e29dfbf>\u001b[0m in \u001b[0;36munique_pac_per_time\u001b[0;34m(df, file_to_save, figsize)\u001b[0m\n\u001b[1;32m      5\u001b[0m         \u001b[0mn_bins\u001b[0m \u001b[0;34m/=\u001b[0m \u001b[0;36m10\u001b[0m\u001b[0;34m\u001b[0m\u001b[0m\n\u001b[1;32m      6\u001b[0m     \u001b[0mplt\u001b[0m\u001b[0;34m.\u001b[0m\u001b[0mfigure\u001b[0m\u001b[0;34m(\u001b[0m\u001b[0mfigsize\u001b[0m\u001b[0;34m=\u001b[0m\u001b[0mfigsize\u001b[0m\u001b[0;34m)\u001b[0m\u001b[0;34m\u001b[0m\u001b[0m\n\u001b[0;32m----> 7\u001b[0;31m     \u001b[0mplt\u001b[0m\u001b[0;34m.\u001b[0m\u001b[0mhist\u001b[0m\u001b[0;34m(\u001b[0m\u001b[0mtest\u001b[0m\u001b[0;34m,\u001b[0m \u001b[0mbins\u001b[0m\u001b[0;34m=\u001b[0m\u001b[0mn_bins\u001b[0m\u001b[0;34m)\u001b[0m\u001b[0;34m\u001b[0m\u001b[0m\n\u001b[0m\u001b[1;32m      8\u001b[0m     \u001b[0mplt\u001b[0m\u001b[0;34m.\u001b[0m\u001b[0mgrid\u001b[0m\u001b[0;34m(\u001b[0m\u001b[0mls\u001b[0m\u001b[0;34m=\u001b[0m\u001b[0;34m':'\u001b[0m\u001b[0;34m)\u001b[0m\u001b[0;34m\u001b[0m\u001b[0m\n\u001b[1;32m      9\u001b[0m     \u001b[0;32mif\u001b[0m \u001b[0mfile_to_save\u001b[0m \u001b[0;32mis\u001b[0m \u001b[0;32mNone\u001b[0m\u001b[0;34m:\u001b[0m\u001b[0;34m\u001b[0m\u001b[0m\n",
      "\u001b[0;32m~/environments/virt-env-DS2/lib/python3.5/site-packages/matplotlib/pyplot.py\u001b[0m in \u001b[0;36mhist\u001b[0;34m(x, bins, range, density, weights, cumulative, bottom, histtype, align, orientation, rwidth, log, color, label, stacked, normed, hold, data, **kwargs)\u001b[0m\n\u001b[1;32m   3130\u001b[0m                       \u001b[0mhisttype\u001b[0m\u001b[0;34m=\u001b[0m\u001b[0mhisttype\u001b[0m\u001b[0;34m,\u001b[0m \u001b[0malign\u001b[0m\u001b[0;34m=\u001b[0m\u001b[0malign\u001b[0m\u001b[0;34m,\u001b[0m \u001b[0morientation\u001b[0m\u001b[0;34m=\u001b[0m\u001b[0morientation\u001b[0m\u001b[0;34m,\u001b[0m\u001b[0;34m\u001b[0m\u001b[0m\n\u001b[1;32m   3131\u001b[0m                       \u001b[0mrwidth\u001b[0m\u001b[0;34m=\u001b[0m\u001b[0mrwidth\u001b[0m\u001b[0;34m,\u001b[0m \u001b[0mlog\u001b[0m\u001b[0;34m=\u001b[0m\u001b[0mlog\u001b[0m\u001b[0;34m,\u001b[0m \u001b[0mcolor\u001b[0m\u001b[0;34m=\u001b[0m\u001b[0mcolor\u001b[0m\u001b[0;34m,\u001b[0m \u001b[0mlabel\u001b[0m\u001b[0;34m=\u001b[0m\u001b[0mlabel\u001b[0m\u001b[0;34m,\u001b[0m\u001b[0;34m\u001b[0m\u001b[0m\n\u001b[0;32m-> 3132\u001b[0;31m                       stacked=stacked, normed=normed, data=data, **kwargs)\n\u001b[0m\u001b[1;32m   3133\u001b[0m     \u001b[0;32mfinally\u001b[0m\u001b[0;34m:\u001b[0m\u001b[0;34m\u001b[0m\u001b[0m\n\u001b[1;32m   3134\u001b[0m         \u001b[0max\u001b[0m\u001b[0;34m.\u001b[0m\u001b[0m_hold\u001b[0m \u001b[0;34m=\u001b[0m \u001b[0mwashold\u001b[0m\u001b[0;34m\u001b[0m\u001b[0m\n",
      "\u001b[0;32m~/environments/virt-env-DS2/lib/python3.5/site-packages/matplotlib/__init__.py\u001b[0m in \u001b[0;36minner\u001b[0;34m(ax, *args, **kwargs)\u001b[0m\n\u001b[1;32m   1853\u001b[0m                         \u001b[0;34m\"the Matplotlib list!)\"\u001b[0m \u001b[0;34m%\u001b[0m \u001b[0;34m(\u001b[0m\u001b[0mlabel_namer\u001b[0m\u001b[0;34m,\u001b[0m \u001b[0mfunc\u001b[0m\u001b[0;34m.\u001b[0m\u001b[0m__name__\u001b[0m\u001b[0;34m)\u001b[0m\u001b[0;34m,\u001b[0m\u001b[0;34m\u001b[0m\u001b[0m\n\u001b[1;32m   1854\u001b[0m                         RuntimeWarning, stacklevel=2)\n\u001b[0;32m-> 1855\u001b[0;31m             \u001b[0;32mreturn\u001b[0m \u001b[0mfunc\u001b[0m\u001b[0;34m(\u001b[0m\u001b[0max\u001b[0m\u001b[0;34m,\u001b[0m \u001b[0;34m*\u001b[0m\u001b[0margs\u001b[0m\u001b[0;34m,\u001b[0m \u001b[0;34m**\u001b[0m\u001b[0mkwargs\u001b[0m\u001b[0;34m)\u001b[0m\u001b[0;34m\u001b[0m\u001b[0m\n\u001b[0m\u001b[1;32m   1856\u001b[0m \u001b[0;34m\u001b[0m\u001b[0m\n\u001b[1;32m   1857\u001b[0m         inner.__doc__ = _add_data_doc(inner.__doc__,\n",
      "\u001b[0;32m~/environments/virt-env-DS2/lib/python3.5/site-packages/matplotlib/axes/_axes.py\u001b[0m in \u001b[0;36mhist\u001b[0;34m(***failed resolving arguments***)\u001b[0m\n\u001b[1;32m   6604\u001b[0m                 patch = _barfunc(bins[:-1]+boffset, height, width,\n\u001b[1;32m   6605\u001b[0m                                  \u001b[0malign\u001b[0m\u001b[0;34m=\u001b[0m\u001b[0;34m'center'\u001b[0m\u001b[0;34m,\u001b[0m \u001b[0mlog\u001b[0m\u001b[0;34m=\u001b[0m\u001b[0mlog\u001b[0m\u001b[0;34m,\u001b[0m\u001b[0;34m\u001b[0m\u001b[0m\n\u001b[0;32m-> 6606\u001b[0;31m                                  color=c, **{bottom_kwarg: bottom})\n\u001b[0m\u001b[1;32m   6607\u001b[0m                 \u001b[0mpatches\u001b[0m\u001b[0;34m.\u001b[0m\u001b[0mappend\u001b[0m\u001b[0;34m(\u001b[0m\u001b[0mpatch\u001b[0m\u001b[0;34m)\u001b[0m\u001b[0;34m\u001b[0m\u001b[0m\n\u001b[1;32m   6608\u001b[0m                 \u001b[0;32mif\u001b[0m \u001b[0mstacked\u001b[0m\u001b[0;34m:\u001b[0m\u001b[0;34m\u001b[0m\u001b[0m\n",
      "\u001b[0;32m~/environments/virt-env-DS2/lib/python3.5/site-packages/matplotlib/__init__.py\u001b[0m in \u001b[0;36minner\u001b[0;34m(ax, *args, **kwargs)\u001b[0m\n\u001b[1;32m   1853\u001b[0m                         \u001b[0;34m\"the Matplotlib list!)\"\u001b[0m \u001b[0;34m%\u001b[0m \u001b[0;34m(\u001b[0m\u001b[0mlabel_namer\u001b[0m\u001b[0;34m,\u001b[0m \u001b[0mfunc\u001b[0m\u001b[0;34m.\u001b[0m\u001b[0m__name__\u001b[0m\u001b[0;34m)\u001b[0m\u001b[0;34m,\u001b[0m\u001b[0;34m\u001b[0m\u001b[0m\n\u001b[1;32m   1854\u001b[0m                         RuntimeWarning, stacklevel=2)\n\u001b[0;32m-> 1855\u001b[0;31m             \u001b[0;32mreturn\u001b[0m \u001b[0mfunc\u001b[0m\u001b[0;34m(\u001b[0m\u001b[0max\u001b[0m\u001b[0;34m,\u001b[0m \u001b[0;34m*\u001b[0m\u001b[0margs\u001b[0m\u001b[0;34m,\u001b[0m \u001b[0;34m**\u001b[0m\u001b[0mkwargs\u001b[0m\u001b[0;34m)\u001b[0m\u001b[0;34m\u001b[0m\u001b[0m\n\u001b[0m\u001b[1;32m   1856\u001b[0m \u001b[0;34m\u001b[0m\u001b[0m\n\u001b[1;32m   1857\u001b[0m         inner.__doc__ = _add_data_doc(inner.__doc__,\n",
      "\u001b[0;32m~/environments/virt-env-DS2/lib/python3.5/site-packages/matplotlib/axes/_axes.py\u001b[0m in \u001b[0;36mbar\u001b[0;34m(self, *args, **kwargs)\u001b[0m\n\u001b[1;32m   2284\u001b[0m             \u001b[0;32melif\u001b[0m \u001b[0morientation\u001b[0m \u001b[0;34m==\u001b[0m \u001b[0;34m'horizontal'\u001b[0m\u001b[0;34m:\u001b[0m\u001b[0;34m\u001b[0m\u001b[0m\n\u001b[1;32m   2285\u001b[0m                 \u001b[0mr\u001b[0m\u001b[0;34m.\u001b[0m\u001b[0msticky_edges\u001b[0m\u001b[0;34m.\u001b[0m\u001b[0mx\u001b[0m\u001b[0;34m.\u001b[0m\u001b[0mappend\u001b[0m\u001b[0;34m(\u001b[0m\u001b[0ml\u001b[0m\u001b[0;34m)\u001b[0m\u001b[0;34m\u001b[0m\u001b[0m\n\u001b[0;32m-> 2286\u001b[0;31m             \u001b[0mself\u001b[0m\u001b[0;34m.\u001b[0m\u001b[0madd_patch\u001b[0m\u001b[0;34m(\u001b[0m\u001b[0mr\u001b[0m\u001b[0;34m)\u001b[0m\u001b[0;34m\u001b[0m\u001b[0m\n\u001b[0m\u001b[1;32m   2287\u001b[0m             \u001b[0mpatches\u001b[0m\u001b[0;34m.\u001b[0m\u001b[0mappend\u001b[0m\u001b[0;34m(\u001b[0m\u001b[0mr\u001b[0m\u001b[0;34m)\u001b[0m\u001b[0;34m\u001b[0m\u001b[0m\n\u001b[1;32m   2288\u001b[0m \u001b[0;34m\u001b[0m\u001b[0m\n",
      "\u001b[0;32m~/environments/virt-env-DS2/lib/python3.5/site-packages/matplotlib/axes/_base.py\u001b[0m in \u001b[0;36madd_patch\u001b[0;34m(self, p)\u001b[0m\n\u001b[1;32m   2002\u001b[0m         \"\"\"\n\u001b[1;32m   2003\u001b[0m \u001b[0;34m\u001b[0m\u001b[0m\n\u001b[0;32m-> 2004\u001b[0;31m         \u001b[0mself\u001b[0m\u001b[0;34m.\u001b[0m\u001b[0m_set_artist_props\u001b[0m\u001b[0;34m(\u001b[0m\u001b[0mp\u001b[0m\u001b[0;34m)\u001b[0m\u001b[0;34m\u001b[0m\u001b[0m\n\u001b[0m\u001b[1;32m   2005\u001b[0m         \u001b[0;32mif\u001b[0m \u001b[0mp\u001b[0m\u001b[0;34m.\u001b[0m\u001b[0mget_clip_path\u001b[0m\u001b[0;34m(\u001b[0m\u001b[0;34m)\u001b[0m \u001b[0;32mis\u001b[0m \u001b[0;32mNone\u001b[0m\u001b[0;34m:\u001b[0m\u001b[0;34m\u001b[0m\u001b[0m\n\u001b[1;32m   2006\u001b[0m             \u001b[0mp\u001b[0m\u001b[0;34m.\u001b[0m\u001b[0mset_clip_path\u001b[0m\u001b[0;34m(\u001b[0m\u001b[0mself\u001b[0m\u001b[0;34m.\u001b[0m\u001b[0mpatch\u001b[0m\u001b[0;34m)\u001b[0m\u001b[0;34m\u001b[0m\u001b[0m\n",
      "\u001b[0;32m~/environments/virt-env-DS2/lib/python3.5/site-packages/matplotlib/axes/_base.py\u001b[0m in \u001b[0;36m_set_artist_props\u001b[0;34m(self, a)\u001b[0m\n\u001b[1;32m    953\u001b[0m         \u001b[0;34m\"\"\"set the boilerplate props for artists added to axes\"\"\"\u001b[0m\u001b[0;34m\u001b[0m\u001b[0m\n\u001b[1;32m    954\u001b[0m         \u001b[0ma\u001b[0m\u001b[0;34m.\u001b[0m\u001b[0mset_figure\u001b[0m\u001b[0;34m(\u001b[0m\u001b[0mself\u001b[0m\u001b[0;34m.\u001b[0m\u001b[0mfigure\u001b[0m\u001b[0;34m)\u001b[0m\u001b[0;34m\u001b[0m\u001b[0m\n\u001b[0;32m--> 955\u001b[0;31m         \u001b[0;32mif\u001b[0m \u001b[0;32mnot\u001b[0m \u001b[0ma\u001b[0m\u001b[0;34m.\u001b[0m\u001b[0mis_transform_set\u001b[0m\u001b[0;34m(\u001b[0m\u001b[0;34m)\u001b[0m\u001b[0;34m:\u001b[0m\u001b[0;34m\u001b[0m\u001b[0m\n\u001b[0m\u001b[1;32m    956\u001b[0m             \u001b[0ma\u001b[0m\u001b[0;34m.\u001b[0m\u001b[0mset_transform\u001b[0m\u001b[0;34m(\u001b[0m\u001b[0mself\u001b[0m\u001b[0;34m.\u001b[0m\u001b[0mtransData\u001b[0m\u001b[0;34m)\u001b[0m\u001b[0;34m\u001b[0m\u001b[0m\n\u001b[1;32m    957\u001b[0m \u001b[0;34m\u001b[0m\u001b[0m\n",
      "\u001b[0;32m~/environments/virt-env-DS2/lib/python3.5/site-packages/matplotlib/artist.py\u001b[0m in \u001b[0;36mis_transform_set\u001b[0;34m(self)\u001b[0m\n\u001b[1;32m    294\u001b[0m             \u001b[0mfunc\u001b[0m\u001b[0;34m(\u001b[0m\u001b[0mself\u001b[0m\u001b[0;34m)\u001b[0m\u001b[0;34m\u001b[0m\u001b[0m\n\u001b[1;32m    295\u001b[0m \u001b[0;34m\u001b[0m\u001b[0m\n\u001b[0;32m--> 296\u001b[0;31m     \u001b[0;32mdef\u001b[0m \u001b[0mis_transform_set\u001b[0m\u001b[0;34m(\u001b[0m\u001b[0mself\u001b[0m\u001b[0;34m)\u001b[0m\u001b[0;34m:\u001b[0m\u001b[0;34m\u001b[0m\u001b[0m\n\u001b[0m\u001b[1;32m    297\u001b[0m         \"\"\"\n\u001b[1;32m    298\u001b[0m         \u001b[0mReturns\u001b[0m \u001b[0;34m*\u001b[0m\u001b[0;32mTrue\u001b[0m\u001b[0;34m*\u001b[0m \u001b[0;32mif\u001b[0m \u001b[0;34m:\u001b[0m\u001b[0;32mclass\u001b[0m\u001b[0;34m:\u001b[0m\u001b[0;31m`\u001b[0m\u001b[0mArtist\u001b[0m\u001b[0;31m`\u001b[0m \u001b[0mhas\u001b[0m \u001b[0ma\u001b[0m \u001b[0mtransform\u001b[0m \u001b[0mexplicitly\u001b[0m\u001b[0;34m\u001b[0m\u001b[0m\n",
      "\u001b[0;31mKeyboardInterrupt\u001b[0m: "
     ]
    }
   ],
   "source": [
    "unique_pac_per_time(data)"
   ]
  },
  {
   "cell_type": "markdown",
   "metadata": {},
   "source": [
    "## Уникальные sources and destination"
   ]
  },
  {
   "cell_type": "code",
   "execution_count": null,
   "metadata": {},
   "outputs": [],
   "source": [
    "def unique_sor_dest_per_time(df, file_to_save=None, figsize=(20, 14)):\n",
    "    # TODO ! ! ! ! ! ! \n",
    "    test = np.array(list(map(int, df.Time)))\n",
    "    n_bins = len(test) // 60\n",
    "    if n_bins > 10**7:\n",
    "        n_bins /= 10\n",
    "    plt.figure(figsize=figsize)\n",
    "    plt.hist(test, bins=n_bins)\n",
    "    plt.grid(ls=':')\n",
    "    if file_to_save is None:\n",
    "        plt.show()\n",
    "    else:\n",
    "        plt.savefig(fname=file_to_save, format='png', dpi=256)"
   ]
  },
  {
   "cell_type": "markdown",
   "metadata": {},
   "source": [
    "# Summary"
   ]
  },
  {
   "cell_type": "code",
   "execution_count": null,
   "metadata": {},
   "outputs": [],
   "source": []
  },
  {
   "cell_type": "code",
   "execution_count": null,
   "metadata": {},
   "outputs": [],
   "source": []
  },
  {
   "cell_type": "code",
   "execution_count": 8,
   "metadata": {},
   "outputs": [],
   "source": [
    "def get_summary(df, figsize=(16, 10), file_to_save=None):\n",
    "    fig, ax = plt.subplots(figsize=figsize)\n",
    "\n",
    "    labels=[]\n",
    "    index_of_total = len(np.unique(df.Protocol))\n",
    "    for i, proto in enumerate(np.unique(df.Protocol)):\n",
    "        segms = create_segments(apply_ISOForest(df,\n",
    "                                                columns_to_use=proto, \n",
    "                                                contamination=0.01),\n",
    "                                gap_ignore=0.004,\n",
    "                                remove_less_when=0.01)\n",
    "        labels.append(proto)\n",
    "        for i in range(len(segms)):\n",
    "            segms[i][1] -= segms[i][0]\n",
    "            segms[i] = tuple(segms[i])\n",
    "        ax.broken_barh(segms, (i-0.4,0.8), color='blue', alpha=0.1)\n",
    "        ax.broken_barh(segms, (index_of_total-0.4,0.8), color='red', alpha=0.07)\n",
    "\n",
    "    labels.append('Total')\n",
    "    ax.set_yticks(range(len(labels)))\n",
    "    ax.set_yticklabels(labels) \n",
    "    ax.set_xlabel(\"time [s]\")\n",
    "    #plt.tight_layout()\n",
    "    if file_to_save is None:\n",
    "        plt.show()\n",
    "    else:\n",
    "        plt.savefig(fname=file_to_save, format='png', dpi=100)"
   ]
  },
  {
   "cell_type": "code",
   "execution_count": 48,
   "metadata": {},
   "outputs": [
    {
     "data": {
      "image/png": "[encoded data removed]",
      "text/plain": [
       "<Figure size 1152x720 with 1 Axes>"
      ]
     },
     "metadata": {},
     "output_type": "display_data"
    }
   ],
   "source": [
    "get_summary(data, file_to_save='summary_2')"
   ]
  },
  {
   "cell_type": "code",
   "execution_count": 40,
   "metadata": {},
   "outputs": [
    {
     "data": {
      "image/png": "[encoded data removed]",
      "text/plain": [
       "<Figure size 864x72 with 1 Axes>"
      ]
     },
     "metadata": {},
     "output_type": "display_data"
    }
   ],
   "source": [
    "fig, ax = plt.subplots(figsize=(12, 1))\n",
    "\n",
    "for segs in all_segms:\n",
    "    ax.broken_barh(segs, (0.2,0.8), color='blue', alpha=0.1)\n",
    "\n",
    "ax.set_yticks(range(1))\n",
    "ax.set_yticklabels(['final']) \n",
    "ax.set_xlabel(\"time [s]\")\n",
    "#plt.tight_layout()       \n",
    "plt.show()"
   ]
  },
  {
   "cell_type": "code",
   "execution_count": 22,
   "metadata": {},
   "outputs": [],
   "source": [
    "def is_segm_informative(segments, max_len=None, informativity_bounds=[0.8, 0.05]):\n",
    "    segments = np.array(segments)\n",
    "    if max_len is None:\n",
    "        max_len = segments.max()\n",
    "    sum_len = 0\n",
    "    for s in segments:\n",
    "        sum_len += s[1] - s[0]\n",
    "    if sum_len > max_len * informativity_bounds[0] or sum_len < max_len * informativity_bounds[1]:\n",
    "        return False\n",
    "    return True\n",
    "\n",
    "\n",
    "def seg_sum(df, segs, labels):\n",
    "    '''\n",
    "    input -- segs : array of array of segments, like array of [[s1, f1], ..., [sn, fn]] \n",
    "    outout -- \n",
    "    '''\n",
    "    inf_labels = []\n",
    "    for s, lab in zip(segs, labels):\n",
    "        if is_segm_informative(s):\n",
    "            inf_labels.append(labels)\n",
    "    ans_segms = create_segments(apply_ISOForest(df,\n",
    "                                            columns_to_use=inf_labels, \n",
    "                                            contamination=0.01),\n",
    "                            gap_ignore=0.0001,\n",
    "                            remove_less_when=0.01)\n",
    "    return ans_segms"
   ]
  },
  {
   "cell_type": "code",
   "execution_count": 23,
   "metadata": {},
   "outputs": [],
   "source": [
    "final_seg = seg_sum(data, all_segms, labels)"
   ]
  },
  {
   "cell_type": "code",
   "execution_count": 26,
   "metadata": {},
   "outputs": [],
   "source": [
    "def drow_segments(segs):\n",
    "    fig, ax = plt.subplots(figsize=(12,2))\n",
    "    \n",
    "    ax.broken_barh(segs, (0.2, 0.8), color='blue', alpha=0.1)\n",
    "\n",
    "    ax.set_yticks(range(1))\n",
    "    ax.set_yticklabels(['final']) \n",
    "    ax.set_xlabel(\"time [s]\")\n",
    "    plt.tight_layout()       \n",
    "    plt.show()"
   ]
  },
  {
   "cell_type": "code",
   "execution_count": 28,
   "metadata": {},
   "outputs": [
    {
     "name": "stdout",
     "output_type": "stream",
     "text": [
      "[]\n"
     ]
    },
    {
     "data": {
      "image/png": "[encoded data removed]",
      "text/plain": [
       "<Figure size 864x144 with 1 Axes>"
      ]
     },
     "metadata": {},
     "output_type": "display_data"
    }
   ],
   "source": [
    "print(final_seg)\n",
    "drow_segments(final_seg)"
   ]
  },
  {
   "cell_type": "code",
   "execution_count": null,
   "metadata": {},
   "outputs": [],
   "source": []
  },
  {
   "cell_type": "markdown",
   "metadata": {},
   "source": [
    "# Func creating dataframe"
   ]
  },
  {
   "cell_type": "code",
   "execution_count": 43,
   "metadata": {},
   "outputs": [],
   "source": [
    "def get_summary_DF(df):\n",
    "    whole_len = int(np.array(df.Time).max())\n",
    "    final_seg = np.zeros(whole_len)\n",
    "    reason = []\n",
    "    for i, proto in enumerate(np.unique(df.Protocol)):\n",
    "        segms = create_segments(apply_ISOForest(df,\n",
    "                                                columns_to_use=proto, \n",
    "                                                contamination=0.01),\n",
    "                                gap_ignore=0.004,\n",
    "                                remove_less_when=0.01)\n",
    "        sum_len = 0\n",
    "        for s in segms:\n",
    "            final_seg[s[0]:s[1]] += 1\n",
    "            sum_len += s[1] - s[0]\n",
    "        reason.append((sum_len, proto))\n",
    "\n",
    "    pixels = final_seg >= final_seg.mean() + 5 * final_seg.std()\n",
    "    final_seg[pixels] = 1\n",
    "    final_seg[np.logical_not(pixels)] = 0\n",
    "    final_seg = create_segments(ar=final_seg, gap_ignore=0.0005, remove_less_when=0.001)\n",
    "    ans_df = pd.DataFrame(columns=['Время начала', 'Время конца', 'Причина'])\n",
    "    for seg in final_seg:\n",
    "        ans_df = ans_df.append({'Время начала' : seg[0], \n",
    "                       'Время конца' : seg[1], \n",
    "                       'Причина' : 'Повышенное количество аномалий в протоколах : ' + \n",
    "                       ' '.join([x[1] for x in reason if x[0] > whole_len * 0.007 ])\n",
    "                               }, \n",
    "                              ignore_index=True)\n",
    "    return ans_df"
   ]
  },
  {
   "cell_type": "code",
   "execution_count": 44,
   "metadata": {},
   "outputs": [
    {
     "name": "stdout",
     "output_type": "stream",
     "text": [
      "[(55427, 'ARP'), (20232, 'DHCPv6'), (32688, 'DNS'), (15480, 'HTTP'), (15522, 'HTTP/XML'), (16341, 'ICMP'), (15502, 'ICMPv6'), (15759, 'LLMNR'), (15448, 'NBNS'), (15749, 'OCSP'), (15772, 'PKIX-CRL'), (15749, 'SMTP'), (15472, 'SSH'), (15744, 'SSHv2'), (15749, 'SSL'), (15466, 'SSLv2'), (16938, 'TCP'), (15716, 'TLSv1'), (16772, 'TLSv1.1'), (15676, 'TLSv1.2'), (15748, 'WebSocket'), (15747, 'XMPP/XML')]\n",
      "whlen 2145184\n"
     ]
    }
   ],
   "source": [
    "a = get_summary_DF(data)"
   ]
  },
  {
   "cell_type": "code",
   "execution_count": 47,
   "metadata": {},
   "outputs": [
    {
     "data": {
      "text/plain": [
       "'Повышенное количество аномалий в протоколах : ARP DHCPv6 DNS'"
      ]
     },
     "execution_count": 47,
     "metadata": {},
     "output_type": "execute_result"
    }
   ],
   "source": [
    "a.Причина[0]"
   ]
  },
  {
   "cell_type": "code",
   "execution_count": 46,
   "metadata": {},
   "outputs": [
    {
     "name": "stdout",
     "output_type": "stream",
     "text": [
      "21451.84\n"
     ]
    }
   ],
   "source": [
    "print(2145184 * 0.01)"
   ]
  }
 ],
 "metadata": {
  "kernelspec": {
   "display_name": "Python 3",
   "language": "python",
   "name": "python3"
  },
  "language_info": {
   "codemirror_mode": {
    "name": "ipython",
    "version": 3
   },
   "file_extension": ".py",
   "mimetype": "text/x-python",
   "name": "python",
   "nbconvert_exporter": "python",
   "pygments_lexer": "ipython3",
   "version": "3.5.2"
  }
 },
 "nbformat": 4,
 "nbformat_minor": 2
}
